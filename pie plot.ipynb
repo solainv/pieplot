{
 "cells": [
  {
   "cell_type": "code",
   "execution_count": 1,
   "id": "1d1cc305",
   "metadata": {},
   "outputs": [],
   "source": [
    "import pandas as pd\n",
    "import numpy as np"
   ]
  },
  {
   "cell_type": "markdown",
   "id": "f5afc53d-4af7-4ddc-9f1c-27b35e6119f4",
   "metadata": {},
   "source": [
    "## 2. Pie charts"
   ]
  },
  {
   "cell_type": "markdown",
   "id": "9b7bb340-3b89-44cb-8d1a-031ffe041af3",
   "metadata": {},
   "source": [
    "### Definition:\n",
    "Ein Pie-Chart, auch Kreisdiagramm genannt, ist eine Grafik, die Daten in einem kreisförmigen Diagramm darstellt. Es zeigt die Anteile verschiedener Kategorien, indem der Kreis in Sektoren unterteilt wird. Jeder Sektor repräsentiert einen bestimmten Datenwert, und die Größe des Sektors entspricht seinem relativen Anteil am Gesamten."
   ]
  },
  {
   "cell_type": "markdown",
   "id": "a2c08367-3311-40ef-9661-6f56370df058",
   "metadata": {},
   "source": [
    "### Verwendung:\n",
    "- Proportionen zu verdeutlichen: Sie zeigen, wie sich verschiedene Teile zu einem Ganzen verhalten, wie beispielsweise den Marktanteil verschiedener Produkte in einem Unternehmen.\n",
    "- Vergleiche zu erleichtern: Durch sie lässt sich schnell erkennen, welche Kategorie den größten oder den kleinsten Anteil ausmacht.\n",
    "- Anzahl der Kategorien soll nicht übertrieben groß sein \n"
   ]
  },
  {
   "cell_type": "code",
   "execution_count": 2,
   "id": "6bedefbb",
   "metadata": {},
   "outputs": [
    {
     "data": {
      "text/html": [
       "<div>\n",
       "<style scoped>\n",
       "    .dataframe tbody tr th:only-of-type {\n",
       "        vertical-align: middle;\n",
       "    }\n",
       "\n",
       "    .dataframe tbody tr th {\n",
       "        vertical-align: top;\n",
       "    }\n",
       "\n",
       "    .dataframe thead th {\n",
       "        text-align: right;\n",
       "    }\n",
       "</style>\n",
       "<table border=\"1\" class=\"dataframe\">\n",
       "  <thead>\n",
       "    <tr style=\"text-align: right;\">\n",
       "      <th></th>\n",
       "      <th>gender</th>\n",
       "      <th>race/ethnicity</th>\n",
       "      <th>parental level of education</th>\n",
       "      <th>lunch</th>\n",
       "      <th>test preparation course</th>\n",
       "      <th>math score</th>\n",
       "      <th>reading score</th>\n",
       "      <th>writing score</th>\n",
       "    </tr>\n",
       "  </thead>\n",
       "  <tbody>\n",
       "    <tr>\n",
       "      <th>0</th>\n",
       "      <td>female</td>\n",
       "      <td>group B</td>\n",
       "      <td>bachelor's degree</td>\n",
       "      <td>standard</td>\n",
       "      <td>none</td>\n",
       "      <td>72</td>\n",
       "      <td>72</td>\n",
       "      <td>74</td>\n",
       "    </tr>\n",
       "    <tr>\n",
       "      <th>1</th>\n",
       "      <td>female</td>\n",
       "      <td>group C</td>\n",
       "      <td>some college</td>\n",
       "      <td>standard</td>\n",
       "      <td>completed</td>\n",
       "      <td>69</td>\n",
       "      <td>90</td>\n",
       "      <td>88</td>\n",
       "    </tr>\n",
       "    <tr>\n",
       "      <th>2</th>\n",
       "      <td>female</td>\n",
       "      <td>group B</td>\n",
       "      <td>master's degree</td>\n",
       "      <td>standard</td>\n",
       "      <td>none</td>\n",
       "      <td>90</td>\n",
       "      <td>95</td>\n",
       "      <td>93</td>\n",
       "    </tr>\n",
       "    <tr>\n",
       "      <th>3</th>\n",
       "      <td>male</td>\n",
       "      <td>group A</td>\n",
       "      <td>associate's degree</td>\n",
       "      <td>free/reduced</td>\n",
       "      <td>none</td>\n",
       "      <td>47</td>\n",
       "      <td>57</td>\n",
       "      <td>44</td>\n",
       "    </tr>\n",
       "    <tr>\n",
       "      <th>4</th>\n",
       "      <td>male</td>\n",
       "      <td>group C</td>\n",
       "      <td>some college</td>\n",
       "      <td>standard</td>\n",
       "      <td>none</td>\n",
       "      <td>76</td>\n",
       "      <td>78</td>\n",
       "      <td>75</td>\n",
       "    </tr>\n",
       "  </tbody>\n",
       "</table>\n",
       "</div>"
      ],
      "text/plain": [
       "   gender race/ethnicity parental level of education         lunch  \\\n",
       "0  female        group B           bachelor's degree      standard   \n",
       "1  female        group C                some college      standard   \n",
       "2  female        group B             master's degree      standard   \n",
       "3    male        group A          associate's degree  free/reduced   \n",
       "4    male        group C                some college      standard   \n",
       "\n",
       "  test preparation course  math score  reading score  writing score  \n",
       "0                    none          72             72             74  \n",
       "1               completed          69             90             88  \n",
       "2                    none          90             95             93  \n",
       "3                    none          47             57             44  \n",
       "4                    none          76             78             75  "
      ]
     },
     "execution_count": 2,
     "metadata": {},
     "output_type": "execute_result"
    }
   ],
   "source": [
    "df = pd.read_csv('https://raw.githubusercontent.com/solainv/pieplot/main/StudentsPerformance.csv')\n",
    "df.head()"
   ]
  },
  {
   "cell_type": "markdown",
   "id": "5db8a5f1-a4db-461b-ba5d-063608f45647",
   "metadata": {},
   "source": [
    "<h3>Übersicht über Daten</h3>"
   ]
  },
  {
   "cell_type": "markdown",
   "id": "d754643d-88df-4d32-b45e-a2b72f39495e",
   "metadata": {},
   "source": [
    "|gender|Es gibt Informationen darüber, ob die Person ein Mädchen oder ein Junge ist.  |\n",
    "----|---------|\n",
    "|race/ethnicity|Die Gruppen (wie Gruppe B oder Gruppe C) geben an, aus welcher ethnischen oder kulturellen Gemeinschaft die Person stammt.|\n",
    "|parental level of education|Hier steht, wie viel Bildung die Eltern abgeschlossen haben, ob sie zum Beispiel einen Bachelor-Abschluss haben oder nur einige College-Kurse belegt haben.|\n",
    "|lunch|Es gibt Auskunft darüber, ob die Person ein normales Mittagessen (standard) hat oder ob es kostenlos oder reduziert ist.|\n",
    "|test preparation course|Hier wird angegeben, ob die Person einen Vorbereitungskurs für die Prüfung absolviert hat oder nicht|\n",
    "|math score|Die Note, die die Person in den Fach Mathematik erhalten hat.|\n",
    "|reading score|Die Note des Schülers oder der Schülerin im Fach Lesen|\n",
    "|writing score|Die Note des Schülers oder der Schülerin im Fach Schreiben|"
   ]
  },
  {
   "cell_type": "code",
   "execution_count": 3,
   "id": "25864ca1",
   "metadata": {},
   "outputs": [
    {
     "data": {
      "text/html": [
       "<div>\n",
       "<style scoped>\n",
       "    .dataframe tbody tr th:only-of-type {\n",
       "        vertical-align: middle;\n",
       "    }\n",
       "\n",
       "    .dataframe tbody tr th {\n",
       "        vertical-align: top;\n",
       "    }\n",
       "\n",
       "    .dataframe thead th {\n",
       "        text-align: right;\n",
       "    }\n",
       "</style>\n",
       "<table border=\"1\" class=\"dataframe\">\n",
       "  <thead>\n",
       "    <tr style=\"text-align: right;\">\n",
       "      <th></th>\n",
       "      <th>Schreibennote</th>\n",
       "    </tr>\n",
       "    <tr>\n",
       "      <th>race/ethnicity</th>\n",
       "      <th></th>\n",
       "    </tr>\n",
       "  </thead>\n",
       "  <tbody>\n",
       "    <tr>\n",
       "      <th>group A</th>\n",
       "      <td>62.674157</td>\n",
       "    </tr>\n",
       "    <tr>\n",
       "      <th>group B</th>\n",
       "      <td>65.600000</td>\n",
       "    </tr>\n",
       "    <tr>\n",
       "      <th>group C</th>\n",
       "      <td>67.827586</td>\n",
       "    </tr>\n",
       "    <tr>\n",
       "      <th>group D</th>\n",
       "      <td>70.145038</td>\n",
       "    </tr>\n",
       "    <tr>\n",
       "      <th>group E</th>\n",
       "      <td>71.407143</td>\n",
       "    </tr>\n",
       "  </tbody>\n",
       "</table>\n",
       "</div>"
      ],
      "text/plain": [
       "                Schreibennote\n",
       "race/ethnicity               \n",
       "group A             62.674157\n",
       "group B             65.600000\n",
       "group C             67.827586\n",
       "group D             70.145038\n",
       "group E             71.407143"
      ]
     },
     "execution_count": 3,
     "metadata": {},
     "output_type": "execute_result"
    }
   ],
   "source": [
    "writing_score = df.groupby('race/ethnicity').agg({'writing score':'mean'})\n",
    "writing_score.rename(columns = {'writing score':'Schreibennote'},inplace = True)\n",
    "writing_score"
   ]
  },
  {
   "cell_type": "code",
   "execution_count": 4,
   "id": "fde7b871-af5f-4420-9fd0-c7f05c116380",
   "metadata": {},
   "outputs": [
    {
     "data": {
      "text/plain": [
       "Text(0.5, 1.0, 'Schreibennoten je nach Gruppe')"
      ]
     },
     "execution_count": 4,
     "metadata": {},
     "output_type": "execute_result"
    },
    {
     "data": {
      "image/png": "[encoded data removed]",
      "text/plain": [
       "<Figure size 640x480 with 1 Axes>"
      ]
     },
     "metadata": {},
     "output_type": "display_data"
    }
   ],
   "source": [
    "explode = (0, 0.08, 0, 0, 0)\n",
    "pie=writing_score['Schreibennote'].plot(kind = 'pie', autopct = '%1.1f%%', explode = explode, shadow=True, startangle=90)\n",
    "pie.set_ylabel(None)\n",
    "pie.set_title('Schreibennoten je nach Gruppe')"
   ]
  },
  {
   "cell_type": "code",
   "execution_count": null,
   "id": "e5ff87f6-d635-41fa-a1eb-0d9678bb0167",
   "metadata": {},
   "outputs": [],
   "source": []
  }
 ],
 "metadata": {
  "kernelspec": {
   "display_name": "Python 3 (ipykernel)",
   "language": "python",
   "name": "python3"
  },
  "language_info": {
   "codemirror_mode": {
    "name": "ipython",
    "version": 3
   },
   "file_extension": ".py",
   "mimetype": "text/x-python",
   "name": "python",
   "nbconvert_exporter": "python",
   "pygments_lexer": "ipython3",
   "version": "3.11.7"
  }
 },
 "nbformat": 4,
 "nbformat_minor": 5
}
